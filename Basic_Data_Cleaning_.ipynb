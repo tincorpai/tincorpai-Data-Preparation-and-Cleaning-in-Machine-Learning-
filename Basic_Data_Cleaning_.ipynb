{
  "cells": [
    {
      "cell_type": "markdown",
      "metadata": {
        "id": "view-in-github",
        "colab_type": "text"
      },
      "source": [
        "<a href=\"https://colab.research.google.com/github/tincorpai/tincorpai-Data-Preparation-and-Cleaning-in-Machine-Learning-/blob/master/Basic_Data_Cleaning_.ipynb\" target=\"_parent\"><img src=\"https://colab.research.google.com/assets/colab-badge.svg\" alt=\"Open In Colab\"/></a>"
      ]
    },
    {
      "cell_type": "markdown",
      "id": "039e81e8",
      "metadata": {
        "id": "039e81e8"
      },
      "source": [
        "# Basic Data Cleaning "
      ]
    },
    {
      "cell_type": "markdown",
      "id": "30c5fdb8",
      "metadata": {
        "id": "30c5fdb8"
      },
      "source": [
        "Data cleaning refers to identifying and correcting errors in the dataset that may negatively impact a predictive model."
      ]
    },
    {
      "cell_type": "markdown",
      "id": "fc190166",
      "metadata": {
        "id": "fc190166"
      },
      "source": [
        "Data cleaning is used to refer to all kinds of tasks and activities to detect and repair errors in the data.\n"
      ]
    },
    {
      "cell_type": "code",
      "execution_count": null,
      "id": "29205efe",
      "metadata": {
        "id": "29205efe"
      },
      "outputs": [],
      "source": [
        "#importing pandas\n",
        "import pandas as pd\n",
        "from numpy import loadtxt\n",
        "from numpy import unique\n"
      ]
    },
    {
      "cell_type": "code",
      "execution_count": null,
      "id": "6fc32575",
      "metadata": {
        "id": "6fc32575"
      },
      "outputs": [],
      "source": [
        "#read in the oil spill dataset\n",
        "# load the dataset\n",
        "data1 = loadtxt('Oil_spill.txt', delimiter=',')\n",
        "\n",
        "data2 =  pd.read_csv(\"iris_dataset.txt\", sep = \",\", header = None)"
      ]
    },
    {
      "cell_type": "markdown",
      "id": "defdb5b8",
      "metadata": {
        "id": "defdb5b8"
      },
      "source": [
        "The following example below loads the oil-spill classification dataset that contains 50 variables and summarizes the number of unique values for each column."
      ]
    },
    {
      "cell_type": "code",
      "execution_count": null,
      "id": "fb5d73b4",
      "metadata": {
        "id": "fb5d73b4",
        "outputId": "5c07d6c4-ca52-4f4a-cb37-d6adc0e6742a"
      },
      "outputs": [
        {
          "name": "stdout",
          "output_type": "stream",
          "text": [
            "0 238\n",
            "1 297\n",
            "2 927\n",
            "3 933\n",
            "4 179\n",
            "5 375\n",
            "6 820\n",
            "7 618\n",
            "8 561\n",
            "9 57\n",
            "10 577\n",
            "11 59\n",
            "12 73\n",
            "13 107\n",
            "14 53\n",
            "15 91\n",
            "16 893\n",
            "17 810\n",
            "18 170\n",
            "19 53\n",
            "20 68\n",
            "21 9\n",
            "22 1\n",
            "23 92\n",
            "24 9\n",
            "25 8\n",
            "26 9\n",
            "27 308\n",
            "28 447\n",
            "29 392\n",
            "30 107\n",
            "31 42\n",
            "32 4\n",
            "33 45\n",
            "34 141\n",
            "35 110\n",
            "36 3\n",
            "37 758\n",
            "38 9\n",
            "39 9\n",
            "40 388\n",
            "41 220\n",
            "42 644\n",
            "43 649\n",
            "44 499\n",
            "45 2\n",
            "46 937\n",
            "47 169\n",
            "48 286\n",
            "49 2\n"
          ]
        }
      ],
      "source": [
        "for i in range(data1.shape[1]):\n",
        "    print(i, len(unique(data1[:, i])))"
      ]
    },
    {
      "cell_type": "markdown",
      "id": "9886a55c",
      "metadata": {
        "id": "9886a55c"
      },
      "source": [
        "We can see column index 22 has single value and should be removed."
      ]
    },
    {
      "cell_type": "markdown",
      "id": "22b1cd2b",
      "metadata": {
        "id": "22b1cd2b"
      },
      "source": [
        "Instead, we can use the pandas instead. The following example demonstrates how this can be applied."
      ]
    },
    {
      "cell_type": "code",
      "execution_count": null,
      "id": "0e977637",
      "metadata": {
        "scrolled": true,
        "id": "0e977637",
        "outputId": "6d4903d8-917e-4b8d-86f9-55e691cd36d6"
      },
      "outputs": [
        {
          "name": "stdout",
          "output_type": "stream",
          "text": [
            "0     238\n",
            "1     297\n",
            "2     927\n",
            "3     933\n",
            "4     179\n",
            "5     375\n",
            "6     820\n",
            "7     618\n",
            "8     561\n",
            "9      57\n",
            "10    577\n",
            "11     59\n",
            "12     73\n",
            "13    107\n",
            "14     53\n",
            "15     91\n",
            "16    893\n",
            "17    810\n",
            "18    170\n",
            "19     53\n",
            "20     68\n",
            "21      9\n",
            "22      1\n",
            "23     92\n",
            "24      9\n",
            "25      8\n",
            "26      9\n",
            "27    308\n",
            "28    447\n",
            "29    392\n",
            "30    107\n",
            "31     42\n",
            "32      4\n",
            "33     45\n",
            "34    141\n",
            "35    110\n",
            "36      3\n",
            "37    758\n",
            "38      9\n",
            "39      9\n",
            "40    388\n",
            "41    220\n",
            "42    644\n",
            "43    649\n",
            "44    499\n",
            "45      2\n",
            "46    937\n",
            "47    169\n",
            "48    286\n",
            "49      2\n",
            "dtype: int64\n"
          ]
        }
      ],
      "source": [
        "#load the dataset\n",
        "data3 = pd.read_csv('Oil_spill.txt', header=None)\n",
        "print(data3.nunique())"
      ]
    },
    {
      "cell_type": "markdown",
      "id": "d0b82501",
      "metadata": {
        "id": "d0b82501"
      },
      "source": [
        "## Delete Columns That Contain a Single Value"
      ]
    },
    {
      "cell_type": "markdown",
      "id": "a4547dc3",
      "metadata": {
        "id": "a4547dc3"
      },
      "source": [
        "Variables or columns have zero variance and should be removed from our dataset. One method of doing this is to record all columns that have a single unique value, then delete them from Pandas DataFrame by calling drop() function."
      ]
    },
    {
      "cell_type": "code",
      "execution_count": null,
      "id": "e9849ff3",
      "metadata": {
        "id": "e9849ff3"
      },
      "outputs": [],
      "source": [
        "#Get the number of uniqe values for each column \n",
        "counts = data3.nunique()"
      ]
    },
    {
      "cell_type": "code",
      "execution_count": null,
      "id": "25c9d8a4",
      "metadata": {
        "id": "25c9d8a4",
        "outputId": "6a78c9f6-8641-4ad0-d16a-ae590c0e3b0d"
      },
      "outputs": [
        {
          "data": {
            "text/plain": [
              "0     238\n",
              "1     297\n",
              "2     927\n",
              "3     933\n",
              "4     179\n",
              "5     375\n",
              "6     820\n",
              "7     618\n",
              "8     561\n",
              "9      57\n",
              "10    577\n",
              "11     59\n",
              "12     73\n",
              "13    107\n",
              "14     53\n",
              "15     91\n",
              "16    893\n",
              "17    810\n",
              "18    170\n",
              "19     53\n",
              "20     68\n",
              "21      9\n",
              "22      1\n",
              "23     92\n",
              "24      9\n",
              "25      8\n",
              "26      9\n",
              "27    308\n",
              "28    447\n",
              "29    392\n",
              "30    107\n",
              "31     42\n",
              "32      4\n",
              "33     45\n",
              "34    141\n",
              "35    110\n",
              "36      3\n",
              "37    758\n",
              "38      9\n",
              "39      9\n",
              "40    388\n",
              "41    220\n",
              "42    644\n",
              "43    649\n",
              "44    499\n",
              "45      2\n",
              "46    937\n",
              "47    169\n",
              "48    286\n",
              "49      2\n",
              "dtype: int64"
            ]
          },
          "execution_count": 9,
          "metadata": {},
          "output_type": "execute_result"
        }
      ],
      "source": [
        "counts"
      ]
    },
    {
      "cell_type": "code",
      "execution_count": null,
      "id": "8baed017",
      "metadata": {
        "id": "8baed017"
      },
      "outputs": [],
      "source": [
        "#record columns to delete \n",
        "to_del = [i for i, v in enumerate(counts) if v==1]"
      ]
    },
    {
      "cell_type": "code",
      "execution_count": null,
      "id": "840cbd23",
      "metadata": {
        "id": "840cbd23"
      },
      "outputs": [],
      "source": [
        "print(to_del)"
      ]
    },
    {
      "cell_type": "code",
      "execution_count": null,
      "id": "60eac624",
      "metadata": {
        "id": "60eac624"
      },
      "outputs": [],
      "source": [
        "data3.drop(to_del, axis = 1, inplace = True)"
      ]
    },
    {
      "cell_type": "code",
      "execution_count": null,
      "id": "de115bd1",
      "metadata": {
        "id": "de115bd1"
      },
      "outputs": [],
      "source": [
        "print(data3.shape)"
      ]
    },
    {
      "cell_type": "markdown",
      "id": "75ec1a9a",
      "metadata": {
        "id": "75ec1a9a"
      },
      "source": [
        "Consider Columns with few Values "
      ]
    },
    {
      "cell_type": "markdown",
      "id": "cc0c0fbb",
      "metadata": {
        "id": "cc0c0fbb"
      },
      "source": [
        "Some columns that are not categorical variables do contains few numerical values. Such columns might contain 2, 4, or 9 unique numerical variables. These type of columns or predictors are referred to as near-zero variance predictors, as their variance is not zero, but a very small number close to zero.\n",
        "\n",
        "These columns may or may contribute to the skill of a model. We can't assume that they are useless to modelling. Also, columns of these type can cause errors when using power transformms for data preparation and when fitting linear models. To help identify columns of these type, calculate the number of unique values for each variable as a percentage of the total number of rows in the dataset."
      ]
    },
    {
      "cell_type": "code",
      "execution_count": null,
      "id": "1bceba09",
      "metadata": {
        "id": "1bceba09"
      },
      "outputs": [],
      "source": [
        "#summarize the percentage of unique values for each column using numpy\n",
        "for i in range(data1.shape[1]):   #iterate over all columns \n",
        "    num = len(unique(data1[:, i]))   #return the number of unique value in each column\n",
        "    percentage = float(num) / data.shape[0] * 100   #return the percentage of unique value in each column \n",
        "    print('%d, %d, %.1f%%' % (i, num, percentage))   #return percentage of unique value in value in each column.\n"
      ]
    },
    {
      "cell_type": "markdown",
      "id": "35e43697",
      "metadata": {
        "id": "35e43697"
      },
      "source": [
        "This example can be summarized for these variables that have unique values that are less than 1 percent of the entire number  of rows.\n"
      ]
    },
    {
      "cell_type": "code",
      "execution_count": null,
      "id": "64482db4",
      "metadata": {
        "id": "64482db4",
        "outputId": "f2fd2fd1-12d1-46cf-8a9c-e86d8e01f32c"
      },
      "outputs": [
        {
          "name": "stdout",
          "output_type": "stream",
          "text": [
            "21, 9, 1.0%\n",
            "22, 1, 0.1%\n",
            "24, 9, 1.0%\n",
            "25, 8, 0.9%\n",
            "26, 9, 1.0%\n",
            "32, 4, 0.4%\n",
            "36, 3, 0.3%\n",
            "38, 9, 1.0%\n",
            "39, 9, 1.0%\n",
            "45, 2, 0.2%\n",
            "49, 2, 0.2%\n"
          ]
        }
      ],
      "source": [
        "#summarize the percentage of unique values for each column using numpy\n",
        "for i in range(data1.shape[1]):   #iterate over all columns \n",
        "    num = len(unique(data1[:, i]))   #return the number of unique value in each column\n",
        "    percentage = float(num) / data1.shape[0] * 100   #return the percentage of unique value in each column \n",
        "    if percentage < 1:\n",
        "        print('%d, %d, %.1f%%' % (i, num, percentage))   #return percentage of unique value in value in each column.\n"
      ]
    },
    {
      "cell_type": "markdown",
      "id": "81cb4dff",
      "metadata": {
        "id": "81cb4dff"
      },
      "source": [
        "We can see that eleven out of the 50 variables have numerical variables that have unique values that are less than 1 percent of the number of rows. These does not mean that these rows and columns should be deleted, they require futher atention by considering the following circumstances:\n",
        "\n",
        "> The unique values can be encoded as ordinal values?\n",
        "\n",
        "> Perhaps the unique values can be encoded as categorical values?\n",
        "\n",
        "> We can consider the situation of removing each variable from the dataset?"
      ]
    },
    {
      "cell_type": "code",
      "execution_count": null,
      "id": "f2dda351",
      "metadata": {
        "id": "f2dda351",
        "outputId": "a16a6efc-ee9c-4ac8-bfdd-96f2956566bc"
      },
      "outputs": [
        {
          "name": "stdout",
          "output_type": "stream",
          "text": [
            "[21, 22, 24, 25, 26, 32, 36, 38, 39, 45, 49]\n"
          ]
        }
      ],
      "source": [
        "to_del = [i for i, v in enumerate(counts) if (float(v)/data3.shape[0]*100) < 1]\n",
        "print(to_del)"
      ]
    },
    {
      "cell_type": "markdown",
      "id": "bbea4539",
      "metadata": {
        "id": "bbea4539"
      },
      "source": [
        "Delete columns under the above conditions"
      ]
    },
    {
      "cell_type": "code",
      "execution_count": null,
      "id": "f25a1327",
      "metadata": {
        "id": "f25a1327"
      },
      "outputs": [],
      "source": [
        "data3.drop(to_del, axis=1, inplace=True)"
      ]
    },
    {
      "cell_type": "code",
      "execution_count": null,
      "id": "b2aa3312",
      "metadata": {
        "id": "b2aa3312",
        "outputId": "974df249-2cd8-48f2-bfa1-86bce763efc3"
      },
      "outputs": [
        {
          "name": "stdout",
          "output_type": "stream",
          "text": [
            "(937, 39)\n"
          ]
        }
      ],
      "source": [
        "print(data3.shape)"
      ]
    },
    {
      "cell_type": "markdown",
      "id": "0a3cf31b",
      "metadata": {
        "id": "0a3cf31b"
      },
      "source": [
        "## Remove Columns With Low Variance "
      ]
    },
    {
      "cell_type": "markdown",
      "id": "6a457b9a",
      "metadata": {
        "id": "6a457b9a"
      },
      "source": [
        "The variance can be used as a filter for identifying columns to be removed from the dataset."
      ]
    },
    {
      "cell_type": "code",
      "execution_count": null,
      "id": "c6938163",
      "metadata": {
        "id": "c6938163",
        "outputId": "cba71600-34c2-4457-eb5c-b6ba07899b44"
      },
      "outputs": [
        {
          "name": "stdout",
          "output_type": "stream",
          "text": [
            "(937, 49) (937,)\n",
            "(937, 48)\n"
          ]
        }
      ],
      "source": [
        "# example of applying the variance threshold for feature selection\n",
        "from pandas import read_csv\n",
        "from sklearn.feature_selection import VarianceThreshold\n",
        "# load the dataset\n",
        "df = read_csv('Oil_spill.txt', header=None)\n",
        "# split data into inputs and outputs\n",
        "data = df.values\n",
        "X = data[:, :-1]\n",
        "y = data[:, -1]\n",
        "print(X.shape, y.shape)\n",
        "# define the transform\n",
        "transform = VarianceThreshold()\n",
        "# transform the input data\n",
        "X_sel = transform.fit_transform(X)\n",
        "print(X_sel.shape)"
      ]
    },
    {
      "cell_type": "code",
      "execution_count": null,
      "id": "e545ed84",
      "metadata": {
        "id": "e545ed84",
        "outputId": "4287fe5b-7c03-4942-b92d-d80802a8974e"
      },
      "outputs": [
        {
          "data": {
            "text/plain": [
              "array([[1.00000e+00, 2.55800e+03, 1.50609e+03, ..., 6.57400e+01,\n",
              "        7.95000e+00, 1.00000e+00],\n",
              "       [2.00000e+00, 2.23250e+04, 7.91100e+01, ..., 6.57300e+01,\n",
              "        6.26000e+00, 0.00000e+00],\n",
              "       [3.00000e+00, 1.15000e+02, 1.44985e+03, ..., 6.58100e+01,\n",
              "        7.84000e+00, 1.00000e+00],\n",
              "       ...,\n",
              "       [2.02000e+02, 1.40000e+01, 2.51400e+01, ..., 6.59100e+01,\n",
              "        6.12000e+00, 0.00000e+00],\n",
              "       [2.03000e+02, 1.00000e+01, 9.60000e+01, ..., 6.59700e+01,\n",
              "        6.32000e+00, 0.00000e+00],\n",
              "       [2.04000e+02, 1.10000e+01, 7.73000e+00, ..., 6.56500e+01,\n",
              "        6.26000e+00, 0.00000e+00]])"
            ]
          },
          "execution_count": 38,
          "metadata": {},
          "output_type": "execute_result"
        }
      ],
      "source": [
        "data"
      ]
    },
    {
      "cell_type": "markdown",
      "id": "2f345ef4",
      "metadata": {
        "id": "2f345ef4"
      },
      "source": [
        "We want to see what happen when we use different threshold."
      ]
    },
    {
      "cell_type": "code",
      "execution_count": null,
      "id": "d20e2d03",
      "metadata": {
        "id": "d20e2d03",
        "outputId": "61db9166-f49e-4548-aca5-0a8d962b700e"
      },
      "outputs": [
        {
          "name": "stdout",
          "output_type": "stream",
          "text": [
            ">Threshold=0.00, Features=48\n",
            ">Threshold=0.05, Features=37\n",
            ">Threshold=0.10, Features=36\n",
            ">Threshold=0.15, Features=35\n",
            ">Threshold=0.20, Features=35\n",
            ">Threshold=0.25, Features=35\n",
            ">Threshold=0.30, Features=35\n",
            ">Threshold=0.35, Features=35\n",
            ">Threshold=0.40, Features=35\n",
            ">Threshold=0.45, Features=33\n",
            ">Threshold=0.50, Features=31\n"
          ]
        }
      ],
      "source": [
        "# define thresholds to check\n",
        "import numpy as np\n",
        "thresholds = np.arange(0.0, 0.55, 0.05)\n",
        "\n",
        "\n",
        "#Apply transform with each threshold\n",
        "results = list()\n",
        "\n",
        "#This code returns the number of columns that remain at each threshold \n",
        "for t in thresholds:\n",
        "    # define the transform\n",
        "    transform = VarianceThreshold(threshold=t)\n",
        "    # transform the input data\n",
        "    X_sel = transform.fit_transform(X)\n",
        "    # determine the number of input features\n",
        "    n_features = X_sel.shape[1]\n",
        "    print('>Threshold=%.2f, Features=%d' % (t, n_features))\n",
        "    # store the result\n",
        "    results.append(n_features)\n"
      ]
    },
    {
      "cell_type": "code",
      "execution_count": null,
      "id": "37df1be2",
      "metadata": {
        "id": "37df1be2",
        "outputId": "435f9b40-41a4-47d9-ea86-31dc107cc020"
      },
      "outputs": [
        {
          "data": {
            "image/png": "[encoded data removed]",
            "text/plain": [
              "<Figure size 432x288 with 1 Axes>"
            ]
          },
          "metadata": {
            "needs_background": "light"
          },
          "output_type": "display_data"
        }
      ],
      "source": [
        "from sklearn.feature_selection import VarianceThreshold\n",
        "from matplotlib import pyplot\n",
        "pyplot.plot(thresholds, results)\n",
        "pyplot.show()"
      ]
    },
    {
      "cell_type": "markdown",
      "id": "9b5826b6",
      "metadata": {
        "id": "9b5826b6"
      },
      "source": [
        "## Identify Rows That Contain Duplicate Data"
      ]
    },
    {
      "cell_type": "markdown",
      "id": "b7866887",
      "metadata": {
        "id": "b7866887"
      },
      "source": [
        "Rows wth identical data could poccess less information to solving the modeling problem and could be dangerously misleading as well during model evaluation. A duplicate row is a row where each value in each column for that row appears in identically the same order in another row.\n",
        "\n",
        "\n",
        "From an algorithm evaluation perspective, duplicate rows will result in misleading performance. A typical example of this issue can be found a train/test split during cross-validation process, then it is possible for a duplicate row or rows to appear in both train and test datasets and any evaluation of the model on these rows will be correct. This will result in an optimistically biased estimate of performance to unseen data."
      ]
    },
    {
      "cell_type": "markdown",
      "id": "314610a4",
      "metadata": {
        "id": "314610a4"
      },
      "source": [
        "In order to check for duplicated rows, use the duplicated() function from Pandas."
      ]
    },
    {
      "cell_type": "code",
      "execution_count": null,
      "id": "2b421f81",
      "metadata": {
        "id": "2b421f81"
      },
      "outputs": [],
      "source": [
        "from pandas import read_csv"
      ]
    },
    {
      "cell_type": "code",
      "execution_count": null,
      "id": "d025b0cd",
      "metadata": {
        "id": "d025b0cd"
      },
      "outputs": [],
      "source": [
        "#load the dataset\n",
        "data2 =  pd.read_csv(\"iris_dataset.txt\", sep = \",\", header = None)"
      ]
    },
    {
      "cell_type": "code",
      "execution_count": null,
      "id": "bfd8eab1",
      "metadata": {
        "id": "bfd8eab1"
      },
      "outputs": [],
      "source": [
        "#calculate duplicates\n",
        "dups = data2.duplicated()"
      ]
    },
    {
      "cell_type": "code",
      "execution_count": null,
      "id": "2e507f55",
      "metadata": {
        "id": "2e507f55",
        "outputId": "4388801f-9f3e-4376-fade-811514f72bb8"
      },
      "outputs": [
        {
          "name": "stdout",
          "output_type": "stream",
          "text": [
            "True\n"
          ]
        }
      ],
      "source": [
        "print(dups.any())"
      ]
    },
    {
      "cell_type": "code",
      "execution_count": null,
      "id": "d2f8473e",
      "metadata": {
        "id": "d2f8473e",
        "outputId": "02dcf263-be08-4c88-c8cd-392f61f643bd"
      },
      "outputs": [
        {
          "name": "stdout",
          "output_type": "stream",
          "text": [
            "       0    1    2    3               4\n",
            "34   4.9  3.1  1.5  0.1     Iris-setosa\n",
            "37   4.9  3.1  1.5  0.1     Iris-setosa\n",
            "142  5.8  2.7  5.1  1.9  Iris-virginica\n"
          ]
        }
      ],
      "source": [
        "#list all duplcates rows \n",
        "print(data2[dups])"
      ]
    },
    {
      "cell_type": "markdown",
      "id": "b6d3b110",
      "metadata": {
        "id": "b6d3b110"
      },
      "source": [
        "Delete rows with Duplicate Data"
      ]
    },
    {
      "cell_type": "markdown",
      "id": "c6ffffa3",
      "metadata": {
        "id": "c6ffffa3"
      },
      "source": [
        "Duplicate data should be deleted from the dataset prior to machine learning modelling. We can make use of drop_duplicates() function from Pandas."
      ]
    },
    {
      "cell_type": "code",
      "execution_count": null,
      "id": "3d3def12",
      "metadata": {
        "id": "3d3def12",
        "outputId": "d15de2f9-e195-4ad3-decb-4dd8e3f22dff"
      },
      "outputs": [
        {
          "name": "stdout",
          "output_type": "stream",
          "text": [
            "(150, 5)\n",
            "(147, 5)\n"
          ]
        }
      ],
      "source": [
        "# delete rows of duplicate data from the dataset\n",
        "from pandas import read_csv\n",
        "print(data2.shape)\n",
        "# delete duplicate rows\n",
        "data2.drop_duplicates(inplace=True)\n",
        "print(data2.shape)\n"
      ]
    },
    {
      "cell_type": "code",
      "execution_count": null,
      "id": "63b857ac",
      "metadata": {
        "id": "63b857ac"
      },
      "outputs": [],
      "source": []
    }
  ],
  "metadata": {
    "kernelspec": {
      "display_name": "Python 3 (ipykernel)",
      "language": "python",
      "name": "python3"
    },
    "language_info": {
      "codemirror_mode": {
        "name": "ipython",
        "version": 3
      },
      "file_extension": ".py",
      "mimetype": "text/x-python",
      "name": "python",
      "nbconvert_exporter": "python",
      "pygments_lexer": "ipython3",
      "version": "3.9.13"
    },
    "colab": {
      "provenance": [],
      "include_colab_link": true
    }
  },
  "nbformat": 4,
  "nbformat_minor": 5
}